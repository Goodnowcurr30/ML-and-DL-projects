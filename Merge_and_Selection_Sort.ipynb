{
  "nbformat": 4,
  "nbformat_minor": 0,
  "metadata": {
    "colab": {
      "name": "Merge and Selection Sort.ipynb",
      "provenance": [],
      "collapsed_sections": [],
      "authorship_tag": "ABX9TyNq6Eszinx3dJAb4T4SW/c/",
      "include_colab_link": true
    },
    "kernelspec": {
      "name": "python3",
      "display_name": "Python 3"
    },
    "language_info": {
      "name": "python"
    }
  },
  "cells": [
    {
      "cell_type": "markdown",
      "metadata": {
        "id": "view-in-github",
        "colab_type": "text"
      },
      "source": [
        "<a href=\"https://colab.research.google.com/github/Goodnowcurr30/ML-and-DL-projects/blob/master/Merge_and_Selection_Sort.ipynb\" target=\"_parent\"><img src=\"https://colab.research.google.com/assets/colab-badge.svg\" alt=\"Open In Colab\"/></a>"
      ]
    },
    {
      "cell_type": "code",
      "execution_count": null,
      "metadata": {
        "colab": {
          "base_uri": "https://localhost:8080/"
        },
        "id": "pr7SWJfTQ4ML",
        "outputId": "5e1a5d77-260a-42ed-e227-4071c5f4edbd"
      },
      "outputs": [
        {
          "output_type": "stream",
          "name": "stdout",
          "text": [
            "Sorted array is: \n",
            "1 2 3 4 5 8 9 \n"
          ]
        }
      ],
      "source": [
        "# MergeSort in Python\n",
        "\n",
        "def mergeSort(array):\n",
        "  if len(array) > 1:\n",
        "\n",
        "    # r is the point where the array is divided into two subarrays\n",
        "    r = len(array) // 2\n",
        "    L = array[:r]\n",
        "    M = array[r:]\n",
        "\n",
        "    # Sort the two halves\n",
        "    mergeSort(L)\n",
        "    mergeSort(M)\n",
        "\n",
        "    i = j = k = 0\n",
        "\n",
        "    \"\"\"\n",
        "    until we reach either end of either L or M, pick larger among elements\n",
        "    L and M and place them in the correct position at A[p..r]\n",
        "    \"\"\"\n",
        "    while i < len(L) and j < len(M):\n",
        "      if L[i] < M[j]:\n",
        "        array[k] = L[i]\n",
        "        i += 1\n",
        "      else:\n",
        "        array[k] = M[j]\n",
        "        j += 1\n",
        "      k += 1\n",
        "\n",
        "    \"\"\"\n",
        "    when we run out of elements in either L or M, pick up the remaining\n",
        "    elements and put in A[p..r]\n",
        "    \"\"\"\n",
        "    while i < len(L):\n",
        "      array[k] = L[i]\n",
        "      i += 1\n",
        "      k += 1\n",
        "\n",
        "    while j < len(M):\n",
        "      array[k] = M[j]\n",
        "      j += 1\n",
        "      k += 1\n",
        "\n",
        "\n",
        "# Print the array\n",
        "def printList(array):\n",
        "  for i in range(len(array)):\n",
        "    print(array[i], end=\" \")\n",
        "  print()\n",
        "\n",
        "# Driver Program\n",
        "if __name__ == '__main__':\n",
        "  array = [5, 4, 8, 9, 2, 1, 3]\n",
        "\n",
        "  mergeSort(array)\n",
        "\n",
        "  print(\"Using MergeSort algorithm, \\n The sorted array is: \")\n",
        "  printList(array)"
      ]
    },
    {
      "cell_type": "code",
      "source": [
        "# Selection sort in Python\n",
        "\n",
        "def selectionSort(array, size):\n",
        "  for step in range(size):\n",
        "    min_idx = step\n",
        "\n",
        "    for i in range(step + 1, size):\n",
        "      if array[i] < array[min_idx]:\n",
        "        min_idx = i\n",
        "    print(array)\n",
        "\n",
        "    # put min at the correct postion\n",
        "    (array[step], array[min_idx]) = (array[min_idx], array[step])\n",
        "\n",
        "array = [50, 27, 98, 15, 79, 30, 43, 52, 19]\n",
        "size = len(array)\n",
        "selectionSort(array, size)\n",
        "print('\\nSorted Array in Ascending Order: \\n', array)"
      ],
      "metadata": {
        "colab": {
          "base_uri": "https://localhost:8080/"
        },
        "id": "u7AoTp1JfOxL",
        "outputId": "40bbedb7-b3c1-41e5-aa55-c0d9b62d50aa"
      },
      "execution_count": null,
      "outputs": [
        {
          "output_type": "stream",
          "name": "stdout",
          "text": [
            "[50, 27, 98, 15, 79, 30, 43, 52, 19]\n",
            "[15, 27, 98, 50, 79, 30, 43, 52, 19]\n",
            "[15, 19, 98, 50, 79, 30, 43, 52, 27]\n",
            "[15, 19, 27, 50, 79, 30, 43, 52, 98]\n",
            "[15, 19, 27, 30, 79, 50, 43, 52, 98]\n",
            "[15, 19, 27, 30, 43, 50, 79, 52, 98]\n",
            "[15, 19, 27, 30, 43, 50, 79, 52, 98]\n",
            "[15, 19, 27, 30, 43, 50, 52, 79, 98]\n",
            "[15, 19, 27, 30, 43, 50, 52, 79, 98]\n",
            "\n",
            "Sorted Array in Ascending Order: \n",
            " [15, 19, 27, 30, 43, 50, 52, 79, 98]\n"
          ]
        }
      ]
    }
  ]
}